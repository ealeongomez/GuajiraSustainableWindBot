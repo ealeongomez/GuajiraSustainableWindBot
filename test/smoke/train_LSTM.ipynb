{
 "cells": [
  {
   "cell_type": "markdown",
   "id": "dfb6a5d0",
   "metadata": {},
   "source": [
    "# **Libraries**"
   ]
  },
  {
   "cell_type": "code",
   "execution_count": null,
   "id": "d46ee1dc",
   "metadata": {},
   "outputs": [],
   "source": [
    "# Basic packages\n",
    "import pandas as pd\n",
    "import matplotlib.pyplot as plt\n",
    "import numpy as np\n",
    "import matplotlib as mpl\n",
    "import seaborn as sns\n",
    "import os, pickle, re\n",
    "from zipfile import ZipFile\n",
    "from warnings import filterwarnings\n",
    "\n",
    "# Machine learning packages\n",
    "import tensorflow as tf\n",
    "from sklearn.model_selection import train_test_split\n",
    "from sklearn.decomposition import PCA\n",
    "from tensorflow import keras\n",
    "\n",
    "# Performance metrics\n",
    "from sklearn.metrics import mean_squared_error as mse\n",
    "from sklearn.metrics import mean_squared_error, mean_absolute_error, mean_squared_log_error, r2_score\n",
    "from sklearn.model_selection import train_test_split, TimeSeriesSplit\n",
    "\n",
    "filterwarnings('ignore')"
   ]
  },
  {
   "cell_type": "code",
   "execution_count": null,
   "id": "cd9c6ad5",
   "metadata": {},
   "outputs": [],
   "source": [
    "window = 50                # Size of array\n",
    "predictionHorizonMax = 12  # Maximum prediction horizon\n",
    "neurons = 8               # Number of neurons in LSTM\n",
    "epochs = 15                 # Number of epochs\n",
    "batch_size = 64            # Batch size\n"
   ]
  },
  {
   "cell_type": "markdown",
   "id": "c6921253",
   "metadata": {},
   "source": [
    "#  **Functions**"
   ]
  },
  {
   "cell_type": "code",
   "execution_count": null,
   "id": "e3020d04",
   "metadata": {},
   "outputs": [],
   "source": [
    "def SerieMatriz(timeSerie, predictionHorizonMax, window):\n",
    "  timeSerie = np.squeeze(timeSerie)\n",
    "\n",
    "  X = np.zeros([len(timeSerie)-predictionHorizonMax-window+1, window])\n",
    "  y = np.zeros([len(timeSerie)-predictionHorizonMax-window+1, predictionHorizonMax])\n",
    "  for i in range(X.shape[0]):\n",
    "      X[i,:] = timeSerie[i:i+window]\n",
    "      y[i,:] = timeSerie[i+window: i+window+predictionHorizonMax]\n",
    "  \n",
    "  return X, np.squeeze(y)"
   ]
  },
  {
   "cell_type": "markdown",
   "id": "89bd1023",
   "metadata": {},
   "source": [
    "# **Read datasets**"
   ]
  },
  {
   "cell_type": "code",
   "execution_count": null,
   "id": "0665cb34",
   "metadata": {},
   "outputs": [],
   "source": [
    "path = '/Users/guane/Documentos/Doctorate/GuajiraSustainableWindBot/data/raw'\n",
    "datasets = os.listdir(path)\n",
    "\n",
    "data = {}\n",
    "for csv_file in datasets:\n",
    "\n",
    "    name = csv_file.split('.')[0]\n",
    "    name = re.sub(r'open_meteo_', '', name)\n",
    "  \n",
    "    print(\"======\"*8, name)\n",
    "  \n",
    "    # Read dataset\n",
    "    df = pd.read_csv(path + '/' + csv_file)\n",
    "\n",
    "    timeSerie = df['wind_speed_10m']\n",
    "    time = np.arange(0, len(timeSerie),1)\n",
    "\n",
    "    # Fill missing values\n",
    "    valueMax = timeSerie.max()\n",
    "    mean_value = timeSerie.mean()\n",
    "    timeSerie_filled = timeSerie.fillna(mean_value)\n",
    "\n",
    "    timeSerieNormalized = timeSerie_filled / valueMax\n",
    "\n",
    "    # Create time series matrix\n",
    "    X, y = SerieMatriz(timeSerieNormalized, predictionHorizonMax, window)\n",
    "\n",
    "    X_, X_test, y_, y_test = train_test_split(X, y, test_size=0.2, random_state=42)\n",
    "    X_train, X_valid, y_train, y_valid = train_test_split(X_, y_, test_size=0.2, random_state=42)\n",
    "\n",
    "    X_train = np.reshape(X_train, (X_train.shape[0], X_train.shape[1], 1))\n",
    "    X_valid = np.reshape(X_valid, (X_valid.shape[0], X_valid.shape[1], 1))\n",
    "    X_test = np.reshape(X_test, (X_test.shape[0], X_test.shape[1], 1))\n",
    "\n",
    "    data[name] = {}\n",
    "    data[name]['X_train'] = X_train\n",
    "    data[name]['X_valid'] = X_valid\n",
    "    data[name]['X_test'] = X_test\n",
    "    data[name]['y_train'] = y_train*valueMax\n",
    "    data[name]['y_valid'] = y_valid*valueMax\n",
    "    data[name]['y_test'] = y_test*valueMax\n",
    "    data[name]['timeSerie'] = timeSerie_filled\n",
    "    data[name]['mean_value'] = mean_value\n",
    "    data[name]['valueMax'] = valueMax\n",
    "\n",
    "    # Plot dataset\n",
    "    plt.figure(figsize=(35,5))\n",
    "    plt.plot(time[0:X_train.shape[0]], timeSerie[0:X_train.shape[0]], 'g', label= 'Training, samples')\n",
    "    plt.plot(time[X_train.shape[0]:X_train.shape[0]+X_valid.shape[0]], timeSerie[X_train.shape[0]:X_train.shape[0]+X_valid.shape[0]], 'b', label= 'Validation')\n",
    "    plt.plot(time[X_train.shape[0]+X_valid.shape[0]:], timeSerie[X_train.shape[0]+X_valid.shape[0]:], 'r', label= 'Test')\n",
    "    plt.title('Dataset', c='r')\n",
    "    plt.xticks(c='r')\n",
    "    plt.yticks(c='r')\n",
    "    plt.xlim(0,timeSerie.shape[0])\n",
    "    plt.legend()\n",
    "    plt.grid(True)\n",
    "    plt.show()\n",
    "\n",
    "    # save dataset\n",
    "    with open(f'/Users/guane/Documentos/Doctorate/GuajiraSustainableWindBot/models/LSTM/{name}_dataset.pkl', 'wb') as f:\n",
    "        pickle.dump(data, f)\n",
    "  \n"
   ]
  },
  {
   "cell_type": "markdown",
   "id": "0b8532b2",
   "metadata": {},
   "source": [
    "# **Prediction model**"
   ]
  },
  {
   "cell_type": "code",
   "execution_count": null,
   "id": "364f8669",
   "metadata": {},
   "outputs": [],
   "source": [
    "def LSTM_model(X_train, y_train, X_valid, y_valid, X_test, y_test):\n",
    "    \n",
    "    model_LSTM = keras.models.Sequential([\n",
    "    keras.layers.LSTM(neurons, return_sequences=True, input_shape=[None, 1]),\n",
    "    keras.layers.LSTM(neurons, return_sequences=True),\n",
    "    keras.layers.LSTM(neurons),\n",
    "    keras.layers.Dense(predictionHorizonMax)\n",
    "    ])\n",
    "\n",
    "    return model_LSTM\n",
    "    "
   ]
  },
  {
   "cell_type": "code",
   "execution_count": null,
   "id": "63270761",
   "metadata": {},
   "outputs": [],
   "source": [
    "for name in data.keys():\n",
    "\n",
    "    print(\"======\"*8, name)\n",
    "    # Get data\n",
    "    X_train = data[name]['X_train']\n",
    "    y_train = data[name]['y_train']\n",
    "    X_valid = data[name]['X_valid']\n",
    "    y_valid = data[name]['y_valid']\n",
    "    X_test = data[name]['X_test']\n",
    "    y_test = data[name]['y_test']\n",
    "\n",
    "    # Create model\n",
    "    model = LSTM_model(X_train, y_train, X_valid, y_valid, X_test, y_test)\n",
    "    #model.summary()\n",
    "\n",
    "    # Compile model\n",
    "    model.compile(optimizer='adam', loss='mean_squared_error', metrics=['mae', 'mse', 'mape'])\n",
    "\n",
    "    history = model.fit(X_train, y_train, epochs=epochs, batch_size=batch_size, validation_data=(X_valid, y_valid), verbose=0)\n",
    "\n",
    "    # Plot training & validation loss values\n",
    "    plt.figure()\n",
    "    plt.subplot(1, 2, 1)\n",
    "    plt.title(f\"Model loss - {name}\")\n",
    "    plt.plot(history.history['loss'])\n",
    "    plt.plot(history.history['val_loss'])\n",
    "    plt.xlabel('Epoch'); plt.ylabel('Loss')\n",
    "    plt.legend(['train', 'validation'])\n",
    "    plt.subplot(1, 2, 2)\n",
    "    plt.plot(history.history['mae'])\n",
    "    plt.plot(history.history['mape'])\n",
    "    plt.plot(history.history['r2'])\n",
    "    plt.xlabel('Epoch'); plt.ylabel('Loss')\n",
    "    plt.legend(['mae', 'mape'])\n",
    "    plt.show()\n",
    "\n",
    "    # save model\n",
    "    model.save(f'/Users/guane/Documentos/Doctorate/GuajiraSustainableWindBot/models/LSTM/{name}_model.keras')\n",
    "\n",
    "    # save history\n",
    "    with open(f'/Users/guane/Documentos/Doctorate/GuajiraSustainableWindBot/models/LSTM/{name}_history.pkl', 'wb') as f:\n",
    "        pickle.dump(history.history, f)\n"
   ]
  }
 ],
 "metadata": {
  "kernelspec": {
   "display_name": "venv",
   "language": "python",
   "name": "python3"
  },
  "language_info": {
   "codemirror_mode": {
    "name": "ipython",
    "version": 3
   },
   "file_extension": ".py",
   "mimetype": "text/x-python",
   "name": "python",
   "nbconvert_exporter": "python",
   "pygments_lexer": "ipython3",
   "version": "3.11.13"
  }
 },
 "nbformat": 4,
 "nbformat_minor": 5
}
